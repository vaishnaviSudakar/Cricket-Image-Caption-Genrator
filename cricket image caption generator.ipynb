{
 "cells": [
  {
   "cell_type": "markdown",
   "id": "5f7dcf78",
   "metadata": {},
   "source": [
    "## packages\n"
   ]
  },
  {
   "cell_type": "code",
   "execution_count": 1,
   "id": "597ad260",
   "metadata": {},
   "outputs": [],
   "source": [
    "import os\n",
    "import pickle\n",
    "import numpy as np\n",
    "from tqdm.notebook import tqdm\n",
    "\n",
    "from tensorflow.keras.applications.vgg16 import VGG16, preprocess_input\n",
    "from tensorflow.keras.preprocessing.image import load_img, img_to_array\n",
    "from tensorflow.keras.preprocessing.text import Tokenizer\n",
    "from tensorflow.keras.preprocessing.sequence import pad_sequences\n",
    "from tensorflow.keras.models import Model\n",
    "from tensorflow.keras.utils import to_categorical, plot_model\n",
    "from tensorflow.keras.layers import Input, Dense, LSTM, Embedding, Dropout, add\n",
    "from tensorflow.keras.layers import  LSTM"
   ]
  },
  {
   "cell_type": "code",
   "execution_count": 2,
   "id": "e18dc4c8",
   "metadata": {},
   "outputs": [],
   "source": [
    "BASE_DIR = 'F:\\cricket'\n",
    "WORKING_DIR = 'F:\\python_cricket'"
   ]
  },
  {
   "cell_type": "markdown",
   "id": "b7e8d3ec",
   "metadata": {},
   "source": [
    "## Extract Image feature"
   ]
  },
  {
   "cell_type": "code",
   "execution_count": 3,
   "id": "46c182be",
   "metadata": {},
   "outputs": [
    {
     "name": "stdout",
     "output_type": "stream",
     "text": [
      "Model: \"model\"\n",
      "_________________________________________________________________\n",
      " Layer (type)                Output Shape              Param #   \n",
      "=================================================================\n",
      " input_1 (InputLayer)        [(None, 224, 224, 3)]     0         \n",
      "                                                                 \n",
      " block1_conv1 (Conv2D)       (None, 224, 224, 64)      1792      \n",
      "                                                                 \n",
      " block1_conv2 (Conv2D)       (None, 224, 224, 64)      36928     \n",
      "                                                                 \n",
      " block1_pool (MaxPooling2D)  (None, 112, 112, 64)      0         \n",
      "                                                                 \n",
      " block2_conv1 (Conv2D)       (None, 112, 112, 128)     73856     \n",
      "                                                                 \n",
      " block2_conv2 (Conv2D)       (None, 112, 112, 128)     147584    \n",
      "                                                                 \n",
      " block2_pool (MaxPooling2D)  (None, 56, 56, 128)       0         \n",
      "                                                                 \n",
      " block3_conv1 (Conv2D)       (None, 56, 56, 256)       295168    \n",
      "                                                                 \n",
      " block3_conv2 (Conv2D)       (None, 56, 56, 256)       590080    \n",
      "                                                                 \n",
      " block3_conv3 (Conv2D)       (None, 56, 56, 256)       590080    \n",
      "                                                                 \n",
      " block3_pool (MaxPooling2D)  (None, 28, 28, 256)       0         \n",
      "                                                                 \n",
      " block4_conv1 (Conv2D)       (None, 28, 28, 512)       1180160   \n",
      "                                                                 \n",
      " block4_conv2 (Conv2D)       (None, 28, 28, 512)       2359808   \n",
      "                                                                 \n",
      " block4_conv3 (Conv2D)       (None, 28, 28, 512)       2359808   \n",
      "                                                                 \n",
      " block4_pool (MaxPooling2D)  (None, 14, 14, 512)       0         \n",
      "                                                                 \n",
      " block5_conv1 (Conv2D)       (None, 14, 14, 512)       2359808   \n",
      "                                                                 \n",
      " block5_conv2 (Conv2D)       (None, 14, 14, 512)       2359808   \n",
      "                                                                 \n",
      " block5_conv3 (Conv2D)       (None, 14, 14, 512)       2359808   \n",
      "                                                                 \n",
      " block5_pool (MaxPooling2D)  (None, 7, 7, 512)         0         \n",
      "                                                                 \n",
      " flatten (Flatten)           (None, 25088)             0         \n",
      "                                                                 \n",
      " fc1 (Dense)                 (None, 4096)              102764544 \n",
      "                                                                 \n",
      " fc2 (Dense)                 (None, 4096)              16781312  \n",
      "                                                                 \n",
      "=================================================================\n",
      "Total params: 134,260,544\n",
      "Trainable params: 134,260,544\n",
      "Non-trainable params: 0\n",
      "_________________________________________________________________\n",
      "None\n"
     ]
    }
   ],
   "source": [
    "# load vgg16 model\n",
    "model = VGG16()\n",
    "# restructure the model\n",
    "model = Model(inputs=model.inputs, outputs=model.layers[-2].output)\n",
    "# summarize\n",
    "print(model.summary())# load vgg16 model\n"
   ]
  },
  {
   "cell_type": "markdown",
   "id": "af6de2cb",
   "metadata": {},
   "source": [
    "## extract features from image"
   ]
  },
  {
   "cell_type": "code",
   "execution_count": 44,
   "id": "b674c7f7",
   "metadata": {
    "scrolled": true
   },
   "outputs": [
    {
     "data": {
      "application/vnd.jupyter.widget-view+json": {
       "model_id": "6be79f22158f4f299e9945b357514cb9",
       "version_major": 2,
       "version_minor": 0
      },
      "text/plain": [
       "  0%|          | 0/570 [00:00<?, ?it/s]"
      ]
     },
     "metadata": {},
     "output_type": "display_data"
    }
   ],
   "source": [
    "#we can get image name so we store in one dict,reshaping,feature extraction \n",
    "features = {}\n",
    "directory = os.path.join(BASE_DIR,'F:\\cricket\\cricket_dataset')\n",
    "\n",
    "for img_name in tqdm(os.listdir(directory)):\n",
    "    # load the image from file\n",
    "    img_path = directory + '/' + img_name\n",
    "    image = load_img(img_path, target_size=(224,224))\n",
    "    # convert image pixels to numpy array\n",
    "    image = img_to_array(image)\n",
    "    # reshape data for model\n",
    "    image = image.reshape((1, image.shape[0], image.shape[1], image.shape[2])) #rgb\n",
    "    # preprocess image for vgg\n",
    "    image = preprocess_input(image)\n",
    "    # extract features\n",
    "    feature = model.predict(image, verbose=0)\n",
    "    # get image ID\n",
    "    image_id = img_name.split('.')[0] #because atlast we have .jpg na so we dont want\n",
    "    # store feature\n",
    "    features[image_id] = feature"
   ]
  },
  {
   "cell_type": "code",
   "execution_count": 43,
   "id": "f8b9af4f",
   "metadata": {},
   "outputs": [
    {
     "name": "stdout",
     "output_type": "stream",
     "text": [
      "F:\\cricket\\cricket_dataset\r"
     ]
    }
   ],
   "source": [
    "import os\n",
    "from PIL import Image\n",
    "folder_path = 'F:\\cricket'\n",
    "extensions = []\n",
    "for fldr in os.listdir(folder_path):\n",
    "    sub_folder_path = os.path.join(folder_path,'F:\\cricket\\cricket_dataset')\n",
    "    for filee in os.listdir(sub_folder_path):\n",
    "        file_path = os.path.join(sub_folder_path, filee)\n",
    "        print('F:\\cricket\\cricket_dataset'.format(file_path), end=\"\\r\", flush=True)\n",
    "        im = Image.open(file_path)\n",
    "        rgb_im = im.convert('RGB')\n",
    "        if filee.split('.')[1] not in extensions:\n",
    "            extensions.append(filee.split('.')[1])"
   ]
  },
  {
   "cell_type": "markdown",
   "id": "01181689",
   "metadata": {},
   "source": [
    "## store features in pickle"
   ]
  },
  {
   "cell_type": "code",
   "execution_count": 45,
   "id": "46749cfd",
   "metadata": {},
   "outputs": [],
   "source": [
    "pickle.dump(features, open(os.path.join(WORKING_DIR, 'features.pkl'), 'wb')) #it will create one file inside the working directory through join as above we join both"
   ]
  },
  {
   "cell_type": "markdown",
   "id": "786af52b",
   "metadata": {},
   "source": [
    "## load features from pickle"
   ]
  },
  {
   "cell_type": "code",
   "execution_count": 12,
   "id": "bfc827d5",
   "metadata": {},
   "outputs": [
    {
     "data": {
      "text/plain": [
       "570"
      ]
     },
     "execution_count": 12,
     "metadata": {},
     "output_type": "execute_result"
    }
   ],
   "source": [
    "with open(os.path.join(WORKING_DIR, 'features.pkl'), 'rb') as f:\n",
    "    features = pickle.load(f)\n"
   ]
  },
  {
   "cell_type": "markdown",
   "id": "e6d8b312",
   "metadata": {},
   "source": [
    "## Load the Captions Data"
   ]
  },
  {
   "cell_type": "code",
   "execution_count": 13,
   "id": "fe244efa",
   "metadata": {},
   "outputs": [],
   "source": [
    "with open(os.path.join(BASE_DIR, 'captions.txt'), 'r') as f:\n",
    "    next(f) #next is used because we dont want header\n",
    "    captions_doc = f.read()"
   ]
  },
  {
   "cell_type": "code",
   "execution_count": 16,
   "id": "050586da",
   "metadata": {},
   "outputs": [
    {
     "data": {
      "text/plain": [
       "\"1.jpg,The batsman has not crossed the line. \\n2.jpg,The bail is in the air and its a clean bowled.\\n3.jpg,the ball has hit the stump just before the batsman reaches the line.\\n4.jpg,The batsman is far off from the white line.\\n5.jpg,the stumps are glowing red and yes its a run out.\\n6.jpg,Stumps glow red\\n7.jpg,The ball has hit the stump and its glowing red.\\n8.jpg,Far off from the line and its mostly a run out.\\n9.jpg,Too close to the white line yet clean bowled.\\n10.jpg,Ball has striked the stumps.\\n11.jpg,Very close to the line but the stumps glow red.\\n12.jpg,The ball has striked the stump before the batsman.\\n13.jpg,Bat is very close to white line but not crossed so its a run out.\\n14.jpg,Its a runout\\n15.jpg,Ball has striked the stump its a runout\\n16.jpg,clear run out\\n17.jpg,bat not crossed the white line\\n18.jpg,ball has striked the stump before the batsman could reach the line.\\n19.jpg,its a run out.\\n20.jpg,ball has striked the stump.\\n21.jpg,Far off to score a run its a run out.\\n22.jpg,BAtsman not crossed the line.\\n23.jpg,close by the line yet not crossed.\\n24.jpg,Stumps glowing red its a run out.\\n25.jpg,batsman not crossed the line.\\n26.jpg,ball striked the stumps and thats a run out.\\n27.jpg,very close to the white line but the ball has already hit the stumps.\\n28.jpg,BAtsman not crossed the line.\\n29.jpg,run out\\n30.jpg,ball has hit the stumps before the batsman could reach the line\\n31.jpg,The men in white shirt and hat are the umpires.\\n32.jpg,The umpires.\\n33.jpg,The men with hat are the umpires.\\n34.jpg,Men lookin at the pitch are the umpires.\\n35.jpg,Men deciding are the umpires.\\n36.jpg,the umpire raising his hand its out.\\n37.jpg,hand raised in the air pointing out a finger its out.\\n38.jpg,Umpire declaring one wicket down\\n39.jpg,The player is out.\\n40.jpg,One wicket up the player is out.\\n41.jpg,Umpire declaring that its out.\\n42.jpg,Umpire screaming and pointing that a wicket is up.\\n43.jpg,Umpire declaring the player is out.\\n45.jpg,Umpire stretching both the hands open to declare wide.\\n46.jpg,Both hands stretched side ways along the shoulder level for wide.\\n47.jpg,its a wide when both hands are stretched on their sides.\\n48.jpg,hands stretch open sideways to indicate wide.\\n49.jpg,hands of the upmire stretched side way its a wide.\\n50.jpg,both hands open wide its a wide.\\n51.jpg,umpire declaring wide.\\n52.jpg,wide is indicated by opening the hands on respective sides.\\n53.jpg,umpire stretching his hands side ways to declare its a wide.\\n54.jpg,hands stretched along the shoulder level sideway its a wide.\\n55.jpg,wide is declared by the umpire by stretching his hand on the sides\\n56.jpg,both the hands raised above pointing the sky yes its a six.\\n57.jpg,umpire declaring the player has scored a six.\\n58.jpg,hands raised over the head to indicate a six.\\n59.jpg,umpire raising both the hands to indicate its a six.\\n60.jpg,the runs scored by the batsman is six.\\n61.jpg,six runs is indicated by raising both the hands.\\n62.jpg,man raising both the hands to indicate its a six.\\n63.jpg,umpire indicating six runs.\\n64.jpg,batsman has scored a six is indicated by umpire.\\n65.jpg,umpire indicating six.\\n67.jpg,waving across right hand to show four runs.\\n68.jpg,stretching the right hand to indicate four.\\n69.jpg,umpire waving the right hand to indicate four runs.\\n70.jpg,waving the right hand side ways to show the players has scored four runs.\\n71.jpg,waving the right hand to indicate four.\\n72.jpg,umpire indicating four.\\n73.jpg,umpire waving his right hand to show four.\\n74.jpg,right hand is waved sideways to show four.\\n75.jpg,one hand is waved to show the plaer has scored 4 runs.\\n76.jpg,right hand is waved by the umpire to show that its a four.\\n77.jpg,umpire placing both their hands on the chest to apologise.\\n78.jpg,umpire crossing his hands to say sorry.\\n79.jpg,umpire saying sorry is indicated by crossing hands.\\n80.jpg,umpire showing time out.\\n81.jpg,umpire showing time out by showing his wrist.\\n82.jpg,umpire showing timeout.\\n83.jpg,umpire showing that a third umpire decision.\\n84.jpg,umpire indicating third umpire decision by drawing in air a rectangle.\\n85.jpg,umpire drawing in air a rectangle to show 3rd umpire decision.\\n86.jpg,umpire indicating third umpire decision.\\n87.jpg,showing a rectangle to indicate third umpire decision.\\n88.jpg,player asking for review.\\n89.jpg,player indicating they need review.\\n90.jpg,player asking for review.\\n91.jpg,player asking the umpire for review.\\n92.jpg,review for a decision made.\\n93.jpg,player requesting for a review.\\n94.jpg,the green region in the stadium is the ground.\\n95.jpg,the ground is green in colour.\\n96.jpg,The empty ground.\\n97.jpg,View of the ground.\\n98.jpg,The ground with players.\\n99.jpg,The empty ground.\\n100.jpg,The ground is green.\\n101.jpg,Cricket pitch grass field empty background\\n102.jpg,Cricket pitch with wicket \\n103.jpg,Ground level view of one end of a cricket pitch showing the wicket stumps bails creases and field\\n104.jpg,Empty Cricket Pitch with Wickets and Bails on\\n105.jpg,A full length view of a grass cricket pitch in summer with both sets of wickets and bails setup\\n106.jpg,Cricket pitch with wicket and players\\n107.jpg,Cricket ball and boundary line\\n108.jpg,Cricket ball touching the boundary rope\\n109.jpg,Cricket fielder catching the ball\\n110.jpg,Cricket fielder trying to stop the ball near boundary line\\n111.jpg,Boundary line with a part of the stadium\\n112.jpg,Cricket fielder diving to stop the ball near boundary line\\n113.jpg,Green grass field and outdoor stadium filled with fans\\n114.jpg,Fans cheering during cricket match\\n115.jpg,Crowded cricket stadium\\n116.jpg,Crowd cheering in the stadium \\n117.jpg,Crowd in stand at a cricket match\\n118.jpg,Fans ready to watch the cricket match in the evening\\n119.jpg,Stadium lights and green grass field with fans around\\n120.jpg,Crowd in stadium\\n121.jpg,Cricket scoreboard\\n122.jpg,Cricket scoreboard with trees and sky in the background\\n123.jpg,Scoreboard displaying the score during the cricket match\\n124.jpg,Cricket scoreboard with trees and sky in the background\\n125.jpg,Cricket umpire and scoreboard\\n126.jpg,Cricket scoreboard showing the score during the match\\n127.jpg,Scores displaying on the scoreboard\\n128.jpg,Scores displaying in the backgroung while players are playing the match\\n129.jpg,Cricket ball on the grass\\n130.jpg,New leather Cricket Ball against white\\n131.jpg,Red shiny cricket ball\\n132.jpg,Shiny maroon cricket balls\\n133.jpg,White leather cricket ball\\n134.jpg,Pink shiny cricket ball\\n135.jpg,Pink leather cricket ball\\n136.jpg,Pink cricket ball on the grass\\n137.jpg,White cricket ball\\n138.jpg,White cricket ball\\n139.jpg,New white cricket ball\\n140.jpg,Cricketer on the field in action\\n141.jpg,Cricketer on the field in action\\n142.jpg,Cricket player after hitting big shot\\n143.jpg,Player batting while playing cricket on field\\n144.jpg,Cricket batsman holding a bat\\n145.jpg,Cricket equipment with bat ball helmet and gloves on grass with green background\\n147.jpg,Cricket batsman net practice\\n148.jpg,Young batsman behind the net \\n149.jpg,Bowler bowling and batsman ready to hit the ball during net practicing\\n150.jpg,Batsman during net practicing\\n151.jpg,Bowler behind the net during net practicing\\n152.jpg,Bowler and batsman during net practicing\\n153.jpg,Two players drinking during drinks break in cricket\\n154.jpg,Cricketers drink during drinks break\\n155.jpg,Batsman with a banana in his hand\\n156.jpg,Team Meeting Drinks Break in Cricket\\n157.jpg,Cricketers taking drink during drinks break\\n158.jpg,Drinks break team meeting in cricket\\n159.jpg,Two players drinking in cricket\\n160.jpg,Drinks boy holding drinks\\n161.jpg,Two ball boys sitting outside the boundary line in cricket\\n162.jpg,Ball boy outside the boundary line and a player inside the boundary line\\n163.jpg,Ball boy outside the boundary line\\n164.jpg,Camera man capturing the expressions of a player in a live cricket match\\n165.jpg,Cameraman filming a match\\n166.jpg,Cameraman filming a match in the field\\n167.jpg,Three cameraman filming a cricket match\\n168.jpg,Cameraman filming a cricket match\\n169.jpg,Drone two batsman and a wicket keeper\\n170.jpg,Drone in cricket stadium\\n171.jpg,Drone and two batsman on the field\\n173.jpg,Batsman on the stadium in action\\n174.jpg,Cricket Batsman Hitting Ball During Cricket Match\\n175.jpg,Cricket batsman on the field in action\\n176.jpg,A cricketer in full protective clothing playing\\n177.jpg,Player batting ball stroke strike action\\n178.jpg,Batsman in action\\n179.jpg,Men playing cricket at pitch on sunny day\\n180.jpg,Men playing cricket at pitch on sunny day\\n181.jpg,Batsman in action on field\\n182.jpg,Batsman on the field in action\\n183.jpg,Batsman hitting the ball\\n184.jpg,Cricketer on the field in action and green grass\\n185.jpg,Cricket player batting on field\\n186.jpg,Cricketer on the field in action\\n188.jpg,Batsman hitting the ball in stadium\\n189.jpg,Player batting while playing cricket on field\\n190.jpg,Batsman wicket keeper and fielder in action during the match\\n191.jpg,Batsman batting and wicket keeper in action\\n192.jpg,Batsman with a bat on his hand\\n193.jpg,Batsman in the stadium\\n194.jpg,Batsman and umpire on the field in stadium\\n195.jpg,Cricket batsman in the stadium\\n196.jpg,Batsman with a bat on green grass\\n197.jpg,Batsman with a bat in stadium\\n198.jpg,Batsman and fans cheering at the back\\n199.jpg,Batsman in full protective clothing and a bat in his hand\\n200.jpg,Batsman with a bat and helmet in his hands\\n201.jpg,player hits century in ODI match\\n202.jpg,Player hits century in test match\\n203.jpg,team mate scores century in test match\\n204.jpg,Test match century\\n205.jpg,player scores century in test\\n206.jpg,Bowler ready to ball \\n207.jpg,Bowler after releasing the ball\\n208.jpg,Bowler on the run to ball\\n209.jpg,Ball in the air after release\\n210.jpg,bowler on the run to bowl\\n211.jpg,boeler running to bowl\\n212.jpg,Stark swings the ball\\n213.jpg,Bowler bowls seams ball\\n214.jpg,Left hand seam bowler\\n215.jpg,Fast seam bolwer\\n216.jpg,player bowls spin seam ball\\n217.jpg,Spin bowler bowling\\n218.jpg,Fast spin bowler\\n219.jpg,Four fielders in the slip\\n220.jpg,player bowling seam spin\\n221.jpg,No ball\\n222.jpg,Spin bolwer\\n223.jpg,Left hand spinner\\n224.jpg,Carrom spin ball\\n225.jpg,Off spin ball\\n226.jpg,Knukle ball\\n227.jpg,Knuckle spin ball\\n228.jpg,player seam ball\\n229.jpg,Seam knuckle ball\\n230.jpg,Its a wicket\\n231.jpg,Seam bowler takes stump\\n232.jpg,Wicket taken by a fast bolwer\\n233.jpg,Left stump  taken\\n234.jpg,Fast bowler takes two stumps with a fast ball\\n235.jpg,Defence wicket taken\\n237.jpg,Defence seam wicket taken\\n238.jpg,Four players on the right skip\\n239.jpg,Seam wicket defence front\\n240.jpg,Seam bowler stumps all the three wickets\\n241.jpg,Batsmen tries to defend\\n242.jpg,player smashes the wickets\\n243.jpg,Defence wickets taken seamly\\n244.jpg,Batsmen tries to defend\\n245.jpg,Ball skips the batsmen and stumps\\n246.jpg,Skipper takes the catch\\n247.jpg,Most of the skipper on the right field\\n248.jpg,Two skippers trying to catch the ball\\n249.jpg,player takes a amazing skip catch\\n250.jpg,skippers on the right skip catches the ball\\n251.jpg,player slips taking the catch \\n252.jpg,slips the catch\\n253.jpg,wicket keeper taking the catch\\n254.jpg,ball catches by the wicket keeper\\n255.jpg,wicket keeper are trying to catch the ball\\n256.jpg,ball is caught by the wicket keeper\\n257.jpg,ball is going to catch by the wicket keeper\\n258.jpg,wicket keepr is going to catch the ball\\n259.jpg,wicket keepr is about to catch the ball\\n260.jpg,ball is going to catch by the wicket keeper\\n261.jpg,its a clean bowled\\n262.jpg,the ball is got hit in stump\\n263.jpg,ball is hit on stump \\n264.jpg,clean bowled\\n265.jpg,wicket keeper is about to hit the stump\\n266.jpg,wicket keeper hits the stump\\n267.jpg,stump is hitted by the wicketer\\n268.jpg,wicket keeper is hitting the stump\\n269.jpg,one wicket got hit by the ball\\n270.jpg,wicketer is apealing\\n271.jpg,all are apealing\\n272.jpg,everyone is apealing\\n273.jpg,all are apealing\\n274.jpg,wicketer is apealing\\n275.jpg,all are apealing\\n276.jpg,wicket keeper is experssing \\n277.jpg,wicket keeper is apealing\\n278.jpg,Players have asked for a review and the decision is not out\\n279.jpg,After third umpires decison it says out\\n280.jpg,Umpires call was wickets hitting and third umpire says the same\\n281.jpg,Ball hits the batsmen LBW\\n282.jpg,Batsmen misses and it might be LBW\\n283.jpg,Batsmen misses the ball and the ball is in impact\\n284.jpg,Batsmen doesnt touch the ball and it is in line impact and wickets hitting\\n285.jpg,Original decision was not out but the third umpires decision is out\\n286.jpg,Origina decision and umpires decision is the same\\n287.jpg,Ball misses and third umpire decision is out\\n288.jpg,The ball slightly touches the bat and checked using ultra edge \\n289.jpg,The ultra edge is very light\\n290.jpg,The ball doesnt touch and no ultra edge seen\\n291.jpg,There is a very slight ultra edge\\n292.jpg,The ball missses very lightly and no ultra edge\\n293.jpg,bowler is celebrating \\n294.jpg,bowler is celebrating after the ball is not hitted by the opponent team\\n295.jpg,bowler is celebrating\\n296.jpg,bowler and team is celebrating after the opponent team is out\\n297.jpg,bowler is celebrating\\n298.jpg,After a wicket down players come to celebrate\\n299.jpg,cricket team is celebrating \\n301.jpg,Batsman with a bat and bowler bowling no ball\\n302.jpg,Batsman with a bat and bowler bowling\\n303.jpg,Bowler bowling no ball\\n304.jpg,Batsman with a bat and bowler\\n305.jpg,Batsman with a bat and bowler bowling no ball\\n306.jpg,Bowler hitting wicket and batsman with bat\\n307.jpg,Fielders and batsman with bat on green grass \\n308.jpg,Batsman with a bat and getting bowled \\n309.jpg,Batsman with helmet getting hit by the ball\\n310.jpg,Batsman with a helmet getting hit by the ball\\n311.jpg,Batsam with Bat bending backwards on pitch\\n312.jpg,Batsman with Helmet Bat and gettind hit by the ball \\n313.jpg,Batsman with helmet getting hit by the ball\\n314.jpg,Batsman with Bat in the stadium\\n315.jpg,Batsman in action on pitch\\n316.jpg,Batsman batting and wicketkeeper\\n317.jpg,Batsman hitting the ball and wicketkeeper\\n318.jpg,Batsman hitting the ball on pitch\\n319.jpg,Two fielders trying to catch the ball\\n320.jpg,fielder catching the ball\\n321.jpg,Fielder diving to catch the ball\\n322.jpg,Fielder catching the ball\\n323.jpg,Fielder diving \\n324.jpg,Fielder diving near boundary\\n325.jpg,Fielder diving to catch the ball\\n326.jpg,Two fielders and a ball\\n327.jpg,Fielder diving to catch the ball\\n328.jpg,Fielder diving \\n329.jpg,Fielder diving near boundary\\n330.jpg,Fielder diving to catch the ball near boundary\\n331.jpg,Fielder throwing the ball\\n332.jpg,Fielder catching the ball\\n333.jpg,Fielder with a ball \\n334.jpg,Fielder during fielding in the stadium \\n335.jpg,fielder fielding and a wicketkeeper\\n336.jpg,Fielder throwing a ball\\n337.jpg,Batsman diving on the field in stadium \\n338.jpg,Batsman Diving and a bowler\\n339.jpg,Batsman Diving and a fielder \\n340.jpg,Batsman on the green grass\\n341.jpg,Batsman diving and wicketkeeper\\n342.jpg,Fielder saving the ball\\n343.jpg,fielder trying to stop the ball near boundary\\n344.jpg,Fielder on green grass boundary behind\\n345.jpg,fielder diving to catch the ball\\n346.jpg,Fielder cathing the ball\\n347.jpg,Batsman with bat and fielder\\n348.jpg,Wicket Keeper trying to catch the ball \\n349.jpg,Multiple palyers on the field and an umpire\\n350.jpg,Fielders and umpire in the pitch \\n351.jpg,Multiple fielders and batsman on pitch\\n352.jpg,Multple players batsman and an umpire\\n353.jpg,Multiple fielders and batsman with bat\\n354.jpg,palyers on green pitch in the stadium\\n355.jpg,players with helmet and bat on green grass\\n356.jpg,Multle players on pitch in the stadium\\n357.jpg,Fielders and Batsman with Bat in the stadium\\n358.jpg,Bowlwers Fielders and  batsman playing \\n359.jpg,Bowlers batsman and Umpire on pitch\\n360.jpg,Fielders on green pitch on a sunny day\\n361.jpg,Fielders and keeper on green pitch in stadium\\n362.jpg,Mutiple fielders and umpire in the field\\n363.jpg,keeper and fielders on green grass and stadium behind\\n364.jpg,Filders jumping in excitement and an umpire on pitch\\n365.jpg,Two batsman with bat on pitch\\n366.jpg,Batsman running on pitch fielders and umpire on green grass\\n367.jpg,Batsman with Bat running\\n368.jpg,Two batsman with bat running\\n369.jpg,Batsman running and fielders fielding\\n370.jpg,Batsman with bat on pitch in action\\n371.jpg,Two batsman ruuning with bat\\n372.jpg,Batsman and fielder playing in the stadium\\n373.jpg,Two batsman ruuning with bat on pitch\\n374.jpg,Fielder saving the ball near the boundary\\n375.jpg,Fielder on the green Pitch near the boundary\\n376.jpg,Filder near the boundary in stadium\\n377.jpg,Fieldetr near the Boundary\\n378.jpg,Filedr picking up the ball boundary behind\\n379.jpg,Batsman and umpire on the pitch\\n380.jpg,Filder Bowler and Uppire on pitch\\n381.jpg,Filder and umpire on the pitch\\n382.jpg,Two Umpire and a fielder in stadium\\n383.jpg,Two Umpire and Batsman with a bat in stadium\\n384.jpg,Two batsman with a bat and umpire on field\\n385.jpg,Multiple fielder and a batsman\\n386.jpg,Bowler and batsman on green pitch\\n387.jpg,Keeper and Fielders with stadium background\\n388.jpg,Batsman with bat\\n389.jpg,Batsamn With Gloves on Green Pitch\\n390.jpg,cricket player with Stadium background \\n391.jpg,A cricket player\\n392.jpg,A cricket player in Stadium\\n393.jpg,Btsman with a Bat \\n394.jpg,Multiple players on green pitch and a batsman\\n395.jpg,Batsman with Bat on grren pitch in stadium\\n396.jpg,Batsman with bat and multiple fielders behind\\n397.jpg,Batsman with bat in the stadium \\n398.jpg,Batsman and a bat in the stadium\\n399.jpg,Batsman with bat and multiple fielders behind\\n400.jpg,batsman with a bat on green pitch\\n402.jpg,batsman walking off angrily from the field.\\n403.jpg,Batsman walking back with anger from the field.\\n404.jpg,batsman angry on the fielder.\\n405.jpg,batsman entering the field.\\n406.jpg,batsman is entering the ground.\\n407.jpg,And here are the batsman ready to play.\\n408.jpg,batsmen are enterning the ground.\\n409.jpg,batsmen with cricket bat ready to enter the ground.\\n410.jpg,batsman entering the field.\\n411.jpg,wishing luck to their partners.\\n412.jpg,congratulating their team mate.\\n413.jpg,conveying best wishes to their mates.\\n414.jpg,handshake with their team mate.\\n415.jpg,handshake with their partners.\\n416.jpg,wishing luck for their partner.\\n417.jpg,handshake with their team mates.\\n418.jpg,congratulating their team mate.\\n420.jpg,Stadium in night.\\n421.jpg,ground image in the night.\\n422.jpg,stadium view in the night.\\n423.jpg,room given to the players for fresh up.\\n424.jpg,dress change room for the players.\\n425.jpg,Players dressing room.\\n426.jpg,dressing room with bats and other cricket stuffs\\n427.jpg,Players in the dressing room\\n428.jpg,Players in the cricket dressing room.\\n429.jpg,Map of India with cricket stadium's location.\\n430.jpg,map of England with the location of cricket stadiums.\\n431.jpg,map of australia with the cricket stadiums marked.\\n432.jpg,Third umpire decision.\\n433.jpg,And the decision is pending.\\n434.jpg,waiting for third umpire's decision.\\n435.jpg,third umpire's decion pending.\\n436.jpg,third umpire's decion displaying OUT.\\n437.jpg,third umpire's decion stating a wicket is up.\\n438.jpg,declared out by the third umpire.\\n439.jpg,Waiting for the third umpire to declare the decision.\\n440.jpg,Third umpire declaring its NOT OUT.\\n441.jpg,Third umpire's decision is pending.\\n442.jpg,Asking for review to the third umpire.\\n443.jpg,Umpire asking sorry.\\n444.jpg,Umpire decion pending.\\n445.jpg,third umpire declaring its not out.\\n446.jpg,not out declared by third umpire.\\n447.jpg,Match is yet to beging and coin is being flipped up in the air.\\n448.jpg,Coin in ready to be tossed.\\n449.jpg,Coin is flipped up in the air to know the decion.\\n450.jpg,Coin is flipped in air.\\n451.jpg,Coin is being tossed to see which team has won the toss.\\n452.jpg,the image displaying the counter for tickets.\\n453.jpg,ticket counters to buy tickets for the match.\\n454.jpg,audience in queue to buy tickets.\\n455.jpg,fans in queue to get their tickets.\\n456.jpg,Players cheering up for their team mates.\\n457.jpg,Players watching their team mates perform.\\n458.jpg,Players eagerly watching the match.\\n459.jpg,yes players cheering up for their mates.\\n460.jpg,pitch being protected from rain.\\n461.jpg,pitch being covered to protect it from rain.\\n462.jpg,the ground when it rains.\\n463.jpg,Ground being protected from rain.\\n464.jpg,ground when it rains.\\n465.jpg,The umpire placing the bail on the stumps.\\n466.jpg,placing the bail on the stump.\\n467.jpg,bail being placed back.\\n468.jpg,bail is placed on the stump.\\n469.jpg,talking to the man of the match.\\n470.jpg,man of the match being awarded.\\n471.jpg,man of the match with the trophy.\\n472.jpg,man of the match with his trophy.\\n473.jpg,hading over the award to man of the match.\\n474.jpg,man of the match being awarded.\\n475.jpg,award being handed over to man of the match.\\n476.jpg,man of the match and his award.\\n477.jpg,handing over the trophy to man of the match.\\n478.jpg,man of the match with award.\\n479.jpg,awarding the man of the match.\\n480.jpg,man of the match and trophy.\\n481.jpg,player talking to the press.\\n482.jpg,players talking to the media.\\n483.jpg,players taalking to the press.\\n484.jpg,players in the press meet.\\n485.jpg,cricketers in the press meet.\\n486.jpg,press meet with the cricketers.\\n487.jpg,cheer girls cheering up a win.\\n488.jpg,cheer girls celebrating a win.\\n489.jpg,cheer girls dancing.\\n490.jpg,cheer girls dancing to celebrate.\\n491.jpg,picking the stumps after victory.\\n492.jpg,indicating the victory by picking the stumps.\\n493.jpg,stumps being picked to celebrate.\\n494.jpg,stumps being picked to celebrate victory.\\n495.jpg,taking the stumps up to celebrate the win.\\n496.jpg,player picking the stump to indicate the win.\\n497.jpg,BCCI logo\\n498.jpg,logo of BCCI.\\n499.jpg,logo of BCCI.\\n500.jpg,cricket captain and team mates\\n501.jpg,cricket captain and team mates\\n502.jpg,cricket team members with name\\n504.jpg,cricket team members\\n505.jpg,match scores of each countries\\n506.jpg,match score of two country\\n507.jpg,match summary of two country\\n508.jpg,match score of two country\\n509.jpg,match summary of two country\\n510.jpg,logo of south africa\\n511.jpg,south africa's logo\\n512.jpg,logo of australia\\n513.jpg,cricket logo of australia\\n514.jpg,players are holding the cup\\n515.jpg,cricket team players holding the victory cup\\n516.jpg,cricket team members posing with the world cup\\n517.jpg,players are holding the world cup\\n518.jpg,cricket team holding the victory cup\\n519.jpg,players are happy to hold the cup\\n520.jpg,champions are with the world cup\\n521.jpg,champions celebrating with the world cup\\n522.jpg,two players holding the cup\\n523.jpg,team players holding the victory cup\\n524.jpg,cricket team posing with the world cup\\n525.jpg,players are holding the cup\\n526.jpg,image of the world cup\\n527.jpg,world cup image\\n528.jpg,image of the world cup\\n529.jpg,image of the world cup\\n530.jpg,t20 world cup image\\n531.jpg,image of the t20 world cup\\n532.jpg,t20 world cup image\\n533.jpg,image of the t20 world cup\\n534.jpg,two players are holding the world cup\\n535.jpg,cricket team players are holding the t20 world cup\\n536.jpg,team members are holding the cup\\n537.jpg,image of the world cup\\n538.jpg,team member is holding the world cup\\n539.jpg,image of the ipl cup\\n540.jpg,ipl cup image\\n541.jpg,player is holding the ipl cup\\n542.jpg,team member is holding theipl cup\\n543.jpg,team mate is holding the ipl cup\\n544.jpg,team member is happily holding the ipl cup\\n545.jpg,ipl cup is holding by the team members\\n546.jpg,team member is holding the ipl cup\\n547.jpg,image of the ashes cup\\n548.jpg,ashes cup image holding by the team member\\n549.jpg,cup is holded by the team member\\n550.jpg,image of the ashes cup\\n551.jpg,ashes cup is holded by the team members\\n552.jpg,image of the test cup\\n553.jpg,test cup image\\n554.jpg,image of the test cup\\n555.jpg,test cup is holding by the team member\\n556.jpg,test cup is given to the team member\\n557.jpg,team captain is holding the test cup\\n558.jpg,cricket team is holding the test cup\\n559.jpg,test cup is holding by the captain\\n560.jpg,cup is holding by the captain\\n561.jpg,image of team members\\n562.jpg,image of the players and the team captian\\n563.jpg,image of the players\\n564.jpg,image of the team and team members\\n565.jpg,image of the team members\\n567.jpg,players and the team captain image\\n568.jpg,image of the guest box\\n569.jpg,guest box image\\n570.jpg,image of guest box\\n571.jpg,image of the pepsi vip box\\n573.jpg,image of the pepsi vip box\\n574.jpg,pepsi vip box image\\n575.jpg,image of the pepsi vip box\\n576.jpg,vip box image\\n577.jpg,image of the ipl box\\n578.jpg,ipl box image\\n579.jpg,image of the ipl box\\n580.jpg,ipl box image\\n581.jpg,image of the ipl box\\n\\n\\n\\n\\n\\n\\n\\n\""
      ]
     },
     "execution_count": 16,
     "metadata": {},
     "output_type": "execute_result"
    }
   ],
   "source": [
    "captions_doc\n"
   ]
  },
  {
   "cell_type": "code",
   "execution_count": 17,
   "id": "62b94e3d",
   "metadata": {},
   "outputs": [
    {
     "data": {
      "application/vnd.jupyter.widget-view+json": {
       "model_id": "74b598e00bb64f8fa3add59608c65027",
       "version_major": 2,
       "version_minor": 0
      },
      "text/plain": [
       "  0%|          | 0/577 [00:00<?, ?it/s]"
      ]
     },
     "metadata": {},
     "output_type": "display_data"
    }
   ],
   "source": [
    "# create mapping of image to captions\n",
    "mapping = {} #here we are maping caption with image id\n",
    "# process lines\n",
    "for line in tqdm(captions_doc.split('\\n')): #it is used to load a doc,directory something like iterating and n is used to split it line by line\n",
    "    # split the line by comma(,)\n",
    "    tokens = line.split(',')   #before ',' we have image id we dont want that so [0]--> image [1]-->caption\n",
    "    \n",
    "    if len(line) < 2:  #our caption should have greater than 2 words\n",
    "        continue\n",
    "    image_id, caption = tokens[0], tokens[1:] #we already said this and '1:' indicate we start from first word and goes on eg(this image shows a boy) \n",
    "    \n",
    "    # remove extension from image ID\n",
    "    image_id = image_id.split('.')[0]  #here extension .jpg we dont want that we already done like this\n",
    "   \n",
    "    # convert caption list to string\n",
    "    caption = \" \".join(caption)  #we extracted like a list so we change to string\n",
    "    \n",
    "    # create list if needed\n",
    "    if image_id not in mapping:\n",
    "        mapping[image_id] = [] #if we dont have that image caption means add that\n",
    "    \n",
    "    # store the caption\n",
    "    mapping[image_id].append(caption) #one image has multiple caption so append that"
   ]
  },
  {
   "cell_type": "code",
   "execution_count": 18,
   "id": "580ca5c1",
   "metadata": {},
   "outputs": [
    {
     "data": {
      "text/plain": [
       "569"
      ]
     },
     "execution_count": 18,
     "metadata": {},
     "output_type": "execute_result"
    }
   ],
   "source": [
    "len(mapping) #so we have every image"
   ]
  },
  {
   "cell_type": "code",
   "execution_count": null,
   "id": "96a88ac5",
   "metadata": {},
   "outputs": [],
   "source": []
  },
  {
   "cell_type": "markdown",
   "id": "19145f8f",
   "metadata": {},
   "source": [
    "## Preprocess Text Data (nlp)"
   ]
  },
  {
   "cell_type": "code",
   "execution_count": 19,
   "id": "5cd5b87a",
   "metadata": {},
   "outputs": [],
   "source": [
    "def clean(mapping):\n",
    "    for key, captions in mapping.items(): #here key is imageid and caption is ....\n",
    "        for i in range(len(captions)):\n",
    "            \n",
    "            caption = captions[i] #here we take one caption at a time\n",
    "            \n",
    "            # preprocessing steps\n",
    "            # convert to lowercase\n",
    "            caption = caption.lower() # converting to lower case\n",
    "            \n",
    "            # delete digits, special chars, etc., \n",
    "            caption = caption.replace('[^A-Za-z]', '') #except alphabetics rejecting everything\n",
    "            \n",
    "            # delete additional spaces, it used to convert multiple spaces to single space\n",
    "            caption = caption.replace('\\s+', ' ') \n",
    "            \n",
    "            # add start and end tags to the caption\n",
    "            caption = 'startseq ' + \" \".join([word for word in caption.split() if len(word)>1]) + ' endseq' #it something will combine start and end and also we remove some one letter word\n",
    "            captions[i] = caption #here we replace in the main thing"
   ]
  },
  {
   "cell_type": "code",
   "execution_count": 20,
   "id": "b7719baa",
   "metadata": {},
   "outputs": [
    {
     "data": {
      "text/plain": [
       "['The batsman has not crossed the line. ']"
      ]
     },
     "execution_count": 20,
     "metadata": {},
     "output_type": "execute_result"
    }
   ],
   "source": [
    "# before preprocess of text\n",
    "mapping['1']"
   ]
  },
  {
   "cell_type": "code",
   "execution_count": 21,
   "id": "31b44954",
   "metadata": {},
   "outputs": [],
   "source": [
    "# preprocess the text\n",
    "clean(mapping)"
   ]
  },
  {
   "cell_type": "code",
   "execution_count": 22,
   "id": "dbe65840",
   "metadata": {},
   "outputs": [
    {
     "data": {
      "text/plain": [
       "['startseq the batsman has not crossed the line. endseq']"
      ]
     },
     "execution_count": 22,
     "metadata": {},
     "output_type": "execute_result"
    }
   ],
   "source": [
    "# after preprocess of text\n",
    "mapping['1']"
   ]
  },
  {
   "cell_type": "markdown",
   "id": "7b3ab38d",
   "metadata": {},
   "source": [
    "## Making a list"
   ]
  },
  {
   "cell_type": "code",
   "execution_count": 23,
   "id": "cc3ee035",
   "metadata": {},
   "outputs": [],
   "source": [
    "all_captions = []\n",
    "for key in mapping:\n",
    "    for caption in mapping[key]:\n",
    "        all_captions.append(caption) #here we have entire captions in one list"
   ]
  },
  {
   "cell_type": "code",
   "execution_count": 24,
   "id": "5da2030f",
   "metadata": {},
   "outputs": [
    {
     "data": {
      "text/plain": [
       "569"
      ]
     },
     "execution_count": 24,
     "metadata": {},
     "output_type": "execute_result"
    }
   ],
   "source": [
    "len(all_captions)"
   ]
  },
  {
   "cell_type": "code",
   "execution_count": 25,
   "id": "4378751a",
   "metadata": {},
   "outputs": [
    {
     "data": {
      "text/plain": [
       "['startseq the batsman has not crossed the line. endseq',\n",
       " 'startseq the bail is in the air and its clean bowled. endseq',\n",
       " 'startseq the ball has hit the stump just before the batsman reaches the line. endseq',\n",
       " 'startseq the batsman is far off from the white line. endseq',\n",
       " 'startseq the stumps are glowing red and yes its run out. endseq',\n",
       " 'startseq stumps glow red endseq']"
      ]
     },
     "execution_count": 25,
     "metadata": {},
     "output_type": "execute_result"
    }
   ],
   "source": [
    "all_captions[:6]"
   ]
  },
  {
   "cell_type": "markdown",
   "id": "21376e5c",
   "metadata": {},
   "source": [
    "## tokenizer"
   ]
  },
  {
   "cell_type": "code",
   "execution_count": 26,
   "id": "0aa994d6",
   "metadata": {},
   "outputs": [],
   "source": [
    "tokenizer = Tokenizer()\n",
    "tokenizer.fit_on_texts(all_captions)\n",
    "vocab_size = len(tokenizer.word_index) + 1 #from this we get the total unique word"
   ]
  },
  {
   "cell_type": "code",
   "execution_count": 27,
   "id": "9be5eea3",
   "metadata": {},
   "outputs": [
    {
     "data": {
      "text/plain": [
       "487"
      ]
     },
     "execution_count": 27,
     "metadata": {},
     "output_type": "execute_result"
    }
   ],
   "source": [
    "vocab_size"
   ]
  },
  {
   "cell_type": "code",
   "execution_count": 28,
   "id": "2ec8bc9b",
   "metadata": {},
   "outputs": [
    {
     "data": {
      "text/plain": [
       "19"
      ]
     },
     "execution_count": 28,
     "metadata": {},
     "output_type": "execute_result"
    }
   ],
   "source": [
    "# get maximum length of the caption available\n",
    "max_length = max(len(caption.split()) for caption in all_captions)\n",
    "max_length"
   ]
  },
  {
   "cell_type": "markdown",
   "id": "dc95b496",
   "metadata": {},
   "source": [
    "## Train test split"
   ]
  },
  {
   "cell_type": "code",
   "execution_count": 55,
   "id": "4541ac06",
   "metadata": {},
   "outputs": [
    {
     "data": {
      "text/plain": [
       "['364',\n",
       " '568',\n",
       " '290',\n",
       " '506',\n",
       " '372',\n",
       " '70',\n",
       " '560',\n",
       " '543',\n",
       " '93',\n",
       " '357',\n",
       " '480',\n",
       " '184',\n",
       " '280',\n",
       " '231',\n",
       " '291',\n",
       " '482',\n",
       " '101',\n",
       " '509',\n",
       " '576',\n",
       " '373',\n",
       " '197',\n",
       " '38',\n",
       " '212',\n",
       " '522',\n",
       " '222',\n",
       " '250',\n",
       " '502',\n",
       " '333',\n",
       " '366',\n",
       " '207',\n",
       " '394',\n",
       " '495',\n",
       " '24',\n",
       " '89',\n",
       " '210',\n",
       " '117',\n",
       " '472',\n",
       " '149',\n",
       " '581',\n",
       " '370',\n",
       " '275',\n",
       " '251',\n",
       " '331',\n",
       " '505',\n",
       " '483',\n",
       " '119',\n",
       " '433',\n",
       " '68',\n",
       " '479',\n",
       " '177',\n",
       " '155',\n",
       " '182',\n",
       " '84',\n",
       " '175',\n",
       " '118',\n",
       " '489',\n",
       " '225',\n",
       " '164',\n",
       " '115',\n",
       " '573',\n",
       " '519',\n",
       " '400',\n",
       " '239',\n",
       " '254',\n",
       " '43',\n",
       " '383',\n",
       " '154',\n",
       " '100',\n",
       " '492',\n",
       " '337',\n",
       " '442',\n",
       " '439',\n",
       " '130',\n",
       " '161',\n",
       " '544',\n",
       " '546',\n",
       " '403',\n",
       " '312',\n",
       " '173',\n",
       " '228',\n",
       " '260',\n",
       " '484',\n",
       " '50',\n",
       " '558',\n",
       " '39',\n",
       " '9',\n",
       " '532',\n",
       " '541',\n",
       " '288',\n",
       " '376',\n",
       " '16',\n",
       " '35',\n",
       " '409',\n",
       " '526',\n",
       " '341',\n",
       " '2',\n",
       " '91',\n",
       " '388',\n",
       " '12',\n",
       " '105',\n",
       " '113',\n",
       " '464',\n",
       " '448',\n",
       " '507',\n",
       " '542',\n",
       " '129',\n",
       " '80',\n",
       " '367',\n",
       " '200',\n",
       " '141',\n",
       " '214',\n",
       " '25',\n",
       " '271',\n",
       " '441',\n",
       " '353',\n",
       " '110',\n",
       " '17',\n",
       " '369',\n",
       " '361',\n",
       " '229',\n",
       " '524',\n",
       " '48',\n",
       " '196',\n",
       " '438',\n",
       " '297',\n",
       " '315',\n",
       " '287',\n",
       " '166',\n",
       " '124',\n",
       " '336',\n",
       " '152',\n",
       " '289',\n",
       " '407',\n",
       " '525',\n",
       " '30',\n",
       " '570',\n",
       " '399',\n",
       " '408',\n",
       " '390',\n",
       " '97',\n",
       " '233',\n",
       " '26',\n",
       " '209']"
      ]
     },
     "execution_count": 55,
     "metadata": {},
     "output_type": "execute_result"
    }
   ],
   "source": [
    "from sklearn.model_selection import train_test_split\n",
    "image_ids = list(mapping.keys()) \n",
    "split = int(len(image_ids) * 0.80)\n",
    "#train = image_ids[:split]\n",
    "#test = image_ids[split:]\n",
    "#test\n",
    "\n",
    "train, test = train_test_split(image_ids, random_state=50)\n",
    "test"
   ]
  },
  {
   "cell_type": "code",
   "execution_count": 56,
   "id": "fc00e852",
   "metadata": {},
   "outputs": [],
   "source": [
    "#split"
   ]
  },
  {
   "cell_type": "code",
   "execution_count": 57,
   "id": "de9c7cd7",
   "metadata": {},
   "outputs": [],
   "source": [
    "# create data generator to get data in batch (avoids session crash)\n",
    "def data_generator(data_keys, mapping, features, tokenizer, max_length, vocab_size, batch_size):\n",
    "    # loop over images\n",
    "    X1, X2, y = list(), list(), list()\n",
    "    n = 0\n",
    "    while 1:\n",
    "        for key in data_keys:\n",
    "            n += 1\n",
    "            captions = mapping[key]\n",
    "            # process each caption\n",
    "            for caption in captions:\n",
    "                # encode the sequence\n",
    "                seq = tokenizer.texts_to_sequences([caption])[0]  #here for each word it will assign the index\n",
    "                # split the sequence into X, y pairs\n",
    "                for i in range(1, len(seq)):\n",
    "                    # split into input and output pairs\n",
    "                    in_seq, out_seq = seq[:i], seq[i]\n",
    "                    # pad input sequence\n",
    "                    in_seq = pad_sequences([in_seq], maxlen=max_length)[0] #to maintain same length we use pad because consider the eg at 1st we took girl as word... https://stackoverflow.com/questions/42943291/what-does-keras-io-preprocessing-sequence-pad-sequences-do\n",
    "                    # encode output sequence\n",
    "                    out_seq = to_categorical([out_seq], num_classes=vocab_size)[0]\n",
    "                    \n",
    "                    # store the sequences\n",
    "                    X1.append(features[key][0])\n",
    "                    X2.append(in_seq)\n",
    "                    y.append(out_seq)\n",
    "            if n == batch_size:\n",
    "                X1, X2, y = np.array(X1), np.array(X2), np.array(y)\n",
    "                yield [X1, X2], y\n",
    "                X1, X2, y = list(), list(), list()\n",
    "                n = 0"
   ]
  },
  {
   "cell_type": "markdown",
   "id": "63b72672",
   "metadata": {},
   "source": [
    "## model creation"
   ]
  },
  {
   "cell_type": "code",
   "execution_count": 58,
   "id": "7e6a00fe",
   "metadata": {},
   "outputs": [],
   "source": [
    "# encoder model\n",
    "# image feature layers\n",
    "inputs1 = Input(shape=(4096,))\n",
    "fe1 = Dropout(0.4)(inputs1)  #here we pass inputs1 value as input and droupout .40 represent 40% chance of droping out \n",
    "\n",
    "fe2 = Dense(256, activation='relu')(fe1) #it is attached after convolution layer and it is deciding authority\n",
    "# sequence feature layers\n",
    "inputs2 = Input(shape=(max_length,))\n",
    "se1 = Embedding(vocab_size, 256, mask_zero=True)(inputs2)\n",
    "se2 = Dropout(0.4)(se1)\n",
    "se3 = LSTM(256)(se2)\n",
    "\n",
    "# decoder model\n",
    "decoder1 = add([fe2, se3])\n",
    "decoder2 = Dense(256, activation='relu')(decoder1)\n",
    "outputs = Dense(vocab_size, activation='softmax')(decoder2)\n",
    "\n",
    "model = Model(inputs=[inputs1, inputs2], outputs=outputs)\n",
    "model.compile(loss='categorical_crossentropy', optimizer='adam')   #to finding the error and optimizer is used to fix the error https://www.tutorialspoint.com/keras/keras_model_compilation.htm\n",
    "\n"
   ]
  },
  {
   "cell_type": "code",
   "execution_count": 59,
   "id": "3386af2f",
   "metadata": {},
   "outputs": [
    {
     "name": "stdout",
     "output_type": "stream",
     "text": [
      "You must install pydot (`pip install pydot`) and install graphviz (see instructions at https://graphviz.gitlab.io/download/) for plot_model/model_to_dot to work.\n"
     ]
    }
   ],
   "source": [
    "# plot the model\n",
    "plot_model(model, show_shapes=True)"
   ]
  },
  {
   "cell_type": "markdown",
   "id": "96761282",
   "metadata": {},
   "source": [
    "here in above we already used the image fillter extraction thats why we didnt applied here or otherwise we would\n"
   ]
  },
  {
   "cell_type": "markdown",
   "id": "743d9b17",
   "metadata": {},
   "source": [
    "## train the model"
   ]
  },
  {
   "cell_type": "code",
   "execution_count": 80,
   "id": "9719cb34",
   "metadata": {
    "scrolled": true
   },
   "outputs": [
    {
     "name": "stdout",
     "output_type": "stream",
     "text": [
      "26/26 [==============================] - 2s 88ms/step - loss: 0.0527\n",
      "26/26 [==============================] - 2s 87ms/step - loss: 0.1154\n",
      "26/26 [==============================] - 2s 87ms/step - loss: 0.2242\n",
      "26/26 [==============================] - 2s 88ms/step - loss: 0.2640\n",
      "26/26 [==============================] - 2s 88ms/step - loss: 0.2956\n",
      "26/26 [==============================] - 2s 87ms/step - loss: 0.3225\n",
      "26/26 [==============================] - 2s 90ms/step - loss: 0.2760\n",
      "26/26 [==============================] - 2s 88ms/step - loss: 0.2130\n",
      "26/26 [==============================] - 2s 93ms/step - loss: 0.1625\n",
      "26/26 [==============================] - 2s 91ms/step - loss: 0.1127\n",
      "26/26 [==============================] - 2s 94ms/step - loss: 0.0925\n",
      "26/26 [==============================] - 2s 89ms/step - loss: 0.0734\n",
      "26/26 [==============================] - 2s 90ms/step - loss: 0.0584\n",
      "26/26 [==============================] - 2s 90ms/step - loss: 0.0443\n",
      "26/26 [==============================] - 2s 90ms/step - loss: 0.0329\n",
      "26/26 [==============================] - 2s 90ms/step - loss: 0.0236\n",
      "26/26 [==============================] - 2s 90ms/step - loss: 0.0271\n",
      "26/26 [==============================] - 2s 90ms/step - loss: 0.0327\n",
      "26/26 [==============================] - 2s 91ms/step - loss: 0.0260\n",
      "26/26 [==============================] - 2s 93ms/step - loss: 0.0235\n",
      "26/26 [==============================] - 2s 91ms/step - loss: 0.0221\n",
      "26/26 [==============================] - 3s 107ms/step - loss: 0.0179\n",
      "26/26 [==============================] - 3s 99ms/step - loss: 0.0215\n",
      "26/26 [==============================] - 3s 96ms/step - loss: 0.0173\n",
      "26/26 [==============================] - 2s 95ms/step - loss: 0.0150\n",
      "26/26 [==============================] - 2s 90ms/step - loss: 0.0160\n",
      "26/26 [==============================] - 2s 90ms/step - loss: 0.0126\n",
      "26/26 [==============================] - 2s 90ms/step - loss: 0.0106\n",
      "26/26 [==============================] - 2s 90ms/step - loss: 0.0096\n",
      "26/26 [==============================] - 2s 91ms/step - loss: 0.0109\n",
      "26/26 [==============================] - 2s 90ms/step - loss: 0.0116\n",
      "26/26 [==============================] - 2s 90ms/step - loss: 0.0107\n"
     ]
    }
   ],
   "source": [
    "epochs = 32  #number of complete passes through the training dataset.\n",
    "batch_size = 16 #it will pass 32 images at 1 iteration\n",
    "\n",
    "steps = len(train) // batch_size #at each step back propagation will be done that will handle automatically\n",
    " \n",
    "for i in range(epochs):\n",
    "    # create data generator\n",
    "    generator = data_generator(train, mapping, features, tokenizer, max_length, vocab_size, batch_size)\n",
    "    # fit for one epoch\n",
    "    model.fit(generator, epochs=1, steps_per_epoch=steps, verbose=1)"
   ]
  },
  {
   "cell_type": "code",
   "execution_count": 62,
   "id": "c6ca6606",
   "metadata": {},
   "outputs": [],
   "source": [
    "# save the model\n",
    "model.save(WORKING_DIR+'/best_model.h5') "
   ]
  },
  {
   "cell_type": "code",
   "execution_count": null,
   "id": "6fe3df68",
   "metadata": {},
   "outputs": [],
   "source": []
  },
  {
   "cell_type": "code",
   "execution_count": 63,
   "id": "54caa937",
   "metadata": {},
   "outputs": [],
   "source": [
    "import h5py"
   ]
  },
  {
   "cell_type": "code",
   "execution_count": 64,
   "id": "60fa714d",
   "metadata": {},
   "outputs": [
    {
     "data": {
      "text/plain": [
       "<HDF5 file \"best_model.h5\" (mode r)>"
      ]
     },
     "execution_count": 64,
     "metadata": {},
     "output_type": "execute_result"
    }
   ],
   "source": [
    "h5py.File(\"F:/python/best_model.h5\",'r')"
   ]
  },
  {
   "cell_type": "markdown",
   "id": "f55dc2cb",
   "metadata": {},
   "source": [
    "## Generate Captions for the Image"
   ]
  },
  {
   "cell_type": "code",
   "execution_count": 65,
   "id": "78a8a162",
   "metadata": {},
   "outputs": [],
   "source": [
    "def idx_to_word(integer, tokenizer):   #because all caption we got in integer here it will convert to txt\n",
    "    for word, index in tokenizer.word_index.items():\n",
    "        if index == integer:    #if we have index value means we can use the word from dictionary \n",
    "            return word\n",
    "    return None"
   ]
  },
  {
   "cell_type": "code",
   "execution_count": 66,
   "id": "78e76003",
   "metadata": {},
   "outputs": [],
   "source": [
    "# generate caption for an image\n",
    "def predict_caption(model, image, tokenizer, max_length):\n",
    "    # add start tag for generation process to start\n",
    "    in_text = 'startseq'\n",
    "    # iterate over the max length of sequence\n",
    "    for i in range(max_length):\n",
    "        # encode input sequence\n",
    "        sequence = tokenizer.texts_to_sequences([in_text])[0]  #converting the input sequence of text to int\n",
    "        # pad the sequence\n",
    "        sequence = pad_sequences([sequence], max_length)\n",
    "        # predict next word\n",
    "        yhat = model.predict([image, sequence], verbose=0) #predicting the next word of the image\n",
    "        \n",
    "        # get index with high probability\n",
    "        yhat = np.argmax(yhat)     #it will give the index which has high probablity\n",
    "        \n",
    "        # convert index to word\n",
    "        word = idx_to_word(yhat, tokenizer) # here from above prob we are converting that respective integer to string\n",
    "        # stop if word not found\n",
    "        if word is None:\n",
    "            break\n",
    "        # append word as input for generating next word because we need to predict the next word too\n",
    "        in_text += \" \" + word                    \n",
    "        # stop if we reach end tag\n",
    "        if word == 'endseq':\n",
    "            break\n",
    "      \n",
    "    return in_text"
   ]
  },
  {
   "cell_type": "markdown",
   "id": "12791dbc",
   "metadata": {},
   "source": [
    "## validate with test data"
   ]
  },
  {
   "cell_type": "code",
   "execution_count": 81,
   "id": "e6cb6ecc",
   "metadata": {},
   "outputs": [
    {
     "data": {
      "application/vnd.jupyter.widget-view+json": {
       "model_id": "7634b6d54a2b405f8870215152eb3a3f",
       "version_major": 2,
       "version_minor": 0
      },
      "text/plain": [
       "  0%|          | 0/143 [00:00<?, ?it/s]"
      ]
     },
     "metadata": {},
     "output_type": "display_data"
    },
    {
     "name": "stdout",
     "output_type": "stream",
     "text": [
      "BLEU-1: 0.442831\n",
      "BLEU-2: 0.219948\n"
     ]
    }
   ],
   "source": [
    "from nltk.translate.bleu_score import corpus_bleu\n",
    "\n",
    "actual, predicted = list(), list()   #we need to compare original caption to predicted one\n",
    "\n",
    "for key in tqdm(test):   #we need to take the test image caption\n",
    "    # get actual caption\n",
    "    captions = mapping[key]\n",
    "    # predict the caption for image\n",
    "    y_pred = predict_caption(model, features[key], tokenizer, max_length) \n",
    "   \n",
    "    # split into words\n",
    "    actual_captions = [caption.split() for caption in captions]\n",
    "    \n",
    "    y_pred = y_pred.split()  #here we just need words in order to compare\n",
    "    # append to the list\n",
    "    actual.append(actual_captions)\n",
    "    predicted.append(y_pred)\n",
    "    \n",
    "# calcuate BLEU score  #BLEU (BiLingual Evaluation Understudy) is a metric for automatically evaluating machine-translated text. The BLEU score is a number between zero and one that measures the similarity of the machine-translated text to a set of high quality reference translations.\n",
    "print(\"BLEU-1: %f\" % corpus_bleu(actual, predicted, weights=(1.0, 0, 0, 0)))\n",
    "print(\"BLEU-2: %f\" % corpus_bleu(actual, predicted, weights=(0.5, 0.5, 0, 0)))"
   ]
  },
  {
   "cell_type": "code",
   "execution_count": 68,
   "id": "2950a355",
   "metadata": {},
   "outputs": [],
   "source": [
    "pickle.dump(predicted, open(os.path.join(WORKING_DIR, 'predicted.pkl'), 'wb'))\n",
    "pickle.dump(actual, open(os.path.join(WORKING_DIR, 'actual.pkl'), 'wb'))"
   ]
  },
  {
   "cell_type": "code",
   "execution_count": 69,
   "id": "8fef8e0b",
   "metadata": {},
   "outputs": [],
   "source": [
    "with open(os.path.join(WORKING_DIR, 'predicted.pkl'), 'rb') as f:\n",
    "    predicted = pickle.load(f)\n",
    "    \n",
    "with open(os.path.join(WORKING_DIR, 'actual.pkl'), 'rb') as f:\n",
    "    actual = pickle.load(f)"
   ]
  },
  {
   "cell_type": "markdown",
   "id": "f91edbdf",
   "metadata": {},
   "source": [
    "## Visualize the Results"
   ]
  },
  {
   "cell_type": "code",
   "execution_count": 82,
   "id": "efbffd34",
   "metadata": {},
   "outputs": [],
   "source": [
    "from PIL import Image   #for loading the image\n",
    "import matplotlib.pyplot as plt\n",
    "\n",
    "def generate_caption(image_name):\n",
    "    # load the image\n",
    "    # image_name = \"1001773457_577c3a7d70.jpg\"\n",
    "    image_id = image_name.split('.')[0]\n",
    "    img_path = os.path.join(BASE_DIR, \"F:\\cricket\\cricket_dataset\", image_name)\n",
    "    image = Image.open(img_path)\n",
    "    captions = mapping[image_id]\n",
    "    print('---------------------Actual---------------------')\n",
    "    for caption in captions:\n",
    "        print(caption)\n",
    "    # predict the caption\n",
    "    y_pred = predict_caption(model, features[image_id], tokenizer, max_length)\n",
    "    print('--------------------Predicted--------------------')\n",
    "    print(y_pred)\n",
    "    plt.imshow(image)"
   ]
  },
  {
   "cell_type": "code",
   "execution_count": 89,
   "id": "51f9ca7b",
   "metadata": {},
   "outputs": [
    {
     "name": "stdout",
     "output_type": "stream",
     "text": [
      "---------------------Actual---------------------\n",
      "startseq bat not crossed the white line endseq\n",
      "--------------------Predicted--------------------\n",
      "startseq batsman not crossed the line endseq\n"
     ]
    },
    {
     "data": {
      "image/png": "[encoded data removed]",
      "text/plain": [
       "<Figure size 432x288 with 1 Axes>"
      ]
     },
     "metadata": {
      "needs_background": "light"
     },
     "output_type": "display_data"
    }
   ],
   "source": [
    "generate_caption('17.jpg')"
   ]
  },
  {
   "cell_type": "code",
   "execution_count": 32,
   "id": "e7d5a14c",
   "metadata": {},
   "outputs": [],
   "source": [
    "###keras.models.load_model(filepath)"
   ]
  },
  {
   "cell_type": "code",
   "execution_count": 72,
   "id": "9e8a3602",
   "metadata": {},
   "outputs": [
    {
     "data": {
      "text/plain": [
       "['364',\n",
       " '568',\n",
       " '290',\n",
       " '506',\n",
       " '372',\n",
       " '70',\n",
       " '560',\n",
       " '543',\n",
       " '93',\n",
       " '357',\n",
       " '480',\n",
       " '184',\n",
       " '280',\n",
       " '231',\n",
       " '291',\n",
       " '482',\n",
       " '101',\n",
       " '509',\n",
       " '576',\n",
       " '373',\n",
       " '197',\n",
       " '38',\n",
       " '212',\n",
       " '522',\n",
       " '222',\n",
       " '250',\n",
       " '502',\n",
       " '333',\n",
       " '366',\n",
       " '207',\n",
       " '394',\n",
       " '495',\n",
       " '24',\n",
       " '89',\n",
       " '210',\n",
       " '117',\n",
       " '472',\n",
       " '149',\n",
       " '581',\n",
       " '370',\n",
       " '275',\n",
       " '251',\n",
       " '331',\n",
       " '505',\n",
       " '483',\n",
       " '119',\n",
       " '433',\n",
       " '68',\n",
       " '479',\n",
       " '177',\n",
       " '155',\n",
       " '182',\n",
       " '84',\n",
       " '175',\n",
       " '118',\n",
       " '489',\n",
       " '225',\n",
       " '164',\n",
       " '115',\n",
       " '573',\n",
       " '519',\n",
       " '400',\n",
       " '239',\n",
       " '254',\n",
       " '43',\n",
       " '383',\n",
       " '154',\n",
       " '100',\n",
       " '492',\n",
       " '337',\n",
       " '442',\n",
       " '439',\n",
       " '130',\n",
       " '161',\n",
       " '544',\n",
       " '546',\n",
       " '403',\n",
       " '312',\n",
       " '173',\n",
       " '228',\n",
       " '260',\n",
       " '484',\n",
       " '50',\n",
       " '558',\n",
       " '39',\n",
       " '9',\n",
       " '532',\n",
       " '541',\n",
       " '288',\n",
       " '376',\n",
       " '16',\n",
       " '35',\n",
       " '409',\n",
       " '526',\n",
       " '341',\n",
       " '2',\n",
       " '91',\n",
       " '388',\n",
       " '12',\n",
       " '105',\n",
       " '113',\n",
       " '464',\n",
       " '448',\n",
       " '507',\n",
       " '542',\n",
       " '129',\n",
       " '80',\n",
       " '367',\n",
       " '200',\n",
       " '141',\n",
       " '214',\n",
       " '25',\n",
       " '271',\n",
       " '441',\n",
       " '353',\n",
       " '110',\n",
       " '17',\n",
       " '369',\n",
       " '361',\n",
       " '229',\n",
       " '524',\n",
       " '48',\n",
       " '196',\n",
       " '438',\n",
       " '297',\n",
       " '315',\n",
       " '287',\n",
       " '166',\n",
       " '124',\n",
       " '336',\n",
       " '152',\n",
       " '289',\n",
       " '407',\n",
       " '525',\n",
       " '30',\n",
       " '570',\n",
       " '399',\n",
       " '408',\n",
       " '390',\n",
       " '97',\n",
       " '233',\n",
       " '26',\n",
       " '209']"
      ]
     },
     "execution_count": 72,
     "metadata": {},
     "output_type": "execute_result"
    }
   ],
   "source": [
    "test"
   ]
  },
  {
   "cell_type": "code",
   "execution_count": null,
   "id": "b978df9b",
   "metadata": {},
   "outputs": [],
   "source": [
    "#509,118,35,97,17"
   ]
  }
 ],
 "metadata": {
  "kernelspec": {
   "display_name": "Python 3",
   "language": "python",
   "name": "python3"
  },
  "language_info": {
   "codemirror_mode": {
    "name": "ipython",
    "version": 3
   },
   "file_extension": ".py",
   "mimetype": "text/x-python",
   "name": "python",
   "nbconvert_exporter": "python",
   "pygments_lexer": "ipython3",
   "version": "3.8.8"
  }
 },
 "nbformat": 4,
 "nbformat_minor": 5
}
